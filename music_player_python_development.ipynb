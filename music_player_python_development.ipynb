{
  "nbformat": 4,
  "nbformat_minor": 0,
  "metadata": {
    "colab": {
      "provenance": [],
      "authorship_tag": "ABX9TyMkcS3whk40Jk0NWpjo3Wzd",
      "include_colab_link": true
    },
    "kernelspec": {
      "name": "python3",
      "display_name": "Python 3"
    },
    "language_info": {
      "name": "python"
    }
  },
  "cells": [
    {
      "cell_type": "markdown",
      "metadata": {
        "id": "view-in-github",
        "colab_type": "text"
      },
      "source": [
        "<a href=\"https://colab.research.google.com/github/paranthaman2529/music-player-in-python/blob/main/music_player_python_development.ipynb\" target=\"_parent\"><img src=\"https://colab.research.google.com/assets/colab-badge.svg\" alt=\"Open In Colab\"/></a>"
      ]
    },
    {
      "cell_type": "code",
      "execution_count": 4,
      "metadata": {
        "colab": {
          "base_uri": "https://localhost:8080/"
        },
        "id": "Bk2MJKHQDnS0",
        "outputId": "2a81566f-06fe-4474-d54c-f95d4270f36a"
      },
      "outputs": [
        {
          "output_type": "stream",
          "name": "stdout",
          "text": [
            "Playlist:\n",
            "1. hukum 1 - yuvan  1 (2:45)\n",
            "2. kadhal 2 - antony 2 (10:30)\n",
            "3. ilai 3 - Ar 3 (7:15)\n",
            "Now playing: ilai 3 - Ar 3\n",
            "Stopped playing: ilai 3 - Ar 3\n"
          ]
        }
      ],
      "source": [
        "import random\n",
        "\n",
        "class MusicPlayer:\n",
        "    def __init__(self):\n",
        "        self.playlist = [\n",
        "            {\"title\": \"hukum 1\", \"artist\": \"yuvan  1\", \"duration\": \"2:45\"},\n",
        "            {\"title\": \"kadhal 2\", \"artist\": \"antony 2\", \"duration\": \"10:30\"},\n",
        "            {\"title\": \"ilai 3\", \"artist\": \"Ar 3\", \"duration\": \"7:15\"},\n",
        "            # Add more songs\n",
        "        ]\n",
        "        self.current_song = None\n",
        "\n",
        "    def display_playlist(self):\n",
        "        print(\"Playlist:\")\n",
        "        for i, song in enumerate(self.playlist, start=1):\n",
        "            print(f\"{i}. {song['title']} - {song['artist']} ({song['duration']})\")\n",
        "\n",
        "    def play_random_song(self):\n",
        "        self.current_song = random.choice(self.playlist)\n",
        "        print(f\"Now playing: {self.current_song['title']} - {self.current_song['artist']}\")\n",
        "\n",
        "    def play_specific_song(self, song_index):\n",
        "        if 1 <= song_index <= len(self.playlist):\n",
        "            self.current_song = self.playlist[song_index - 1]\n",
        "            print(f\"Now playing: {self.current_song['title']} - {self.current_song['artist']}\")\n",
        "        else:\n",
        "            print(\"Invalid song index.\")\n",
        "\n",
        "    def stop_playing(self):\n",
        "        if self.current_song:\n",
        "            print(f\"Stopped playing: {self.current_song['title']} - {self.current_song['artist']}\")\n",
        "            self.current_song = None\n",
        "        else:\n",
        "            print(\"No song is currently playing.\")\n",
        "\n",
        "# Example\n",
        "player = MusicPlayer()\n",
        "player.display_playlist()\n",
        "player.play_random_song()\n",
        "player.stop_playing()\n"
      ]
    }
  ]
}